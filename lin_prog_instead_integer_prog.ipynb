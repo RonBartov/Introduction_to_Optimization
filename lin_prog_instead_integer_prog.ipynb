{
  "nbformat": 4,
  "nbformat_minor": 0,
  "metadata": {
    "colab": {
      "provenance": [],
      "authorship_tag": "ABX9TyPftwBbEr3n6LGSVnL49h/n"
    },
    "kernelspec": {
      "name": "python3",
      "display_name": "Python 3"
    },
    "language_info": {
      "name": "python"
    }
  },
  "cells": [
    {
      "cell_type": "markdown",
      "source": [
        "# Maximizing Total Satisfaction in a Bipartite Matching Problem\n",
        "\n",
        "## Problem Description\n",
        "\n",
        "In this problem, we aim to solve a bipartite matching problem to maximize the total satisfaction of matches between men and women. Given a set of $n$ men $M = \\{ m_1, m_2, \\ldots, m_n \\}$ and a set of $n$ women $F = \\{ f_1, f_2, \\ldots, f_n \\}$, we define a bipartite graph $G = (V, E)$, where the vertex set $V = M \\cup F$ and the edge set $E \\subseteq M \\times F$. Each edge $(i, j) \\in E$ has a weight $w_{ij}$ representing the satisfaction of matching man $m_i$ with woman $f_j$.\n",
        "\n",
        "The objective is to find a perfect matching that maximizes the total satisfaction, subject to the constraint that each man is matched with exactly one woman and vice versa.\n",
        "\n",
        "#### Mathematical Formulation\n",
        "\n",
        "We define the decision variable $x_{ij}$ as follows:\n",
        "$$\n",
        "x_{ij} =\n",
        "\\begin{cases}\n",
        "1 & \\text{if man } m_i \\text{ is matched with woman } f_j \\\\\n",
        "0 & \\text{otherwise}\n",
        "\\end{cases}\n",
        "$$\n",
        "\n",
        "The optimization problem can be solved using an integer programmig (IP):\n",
        "$$\n",
        "\\begin{aligned}\n",
        "& \\text{maximize} & & \\sum_{(i, j) \\in E} w_{ij} x_{ij} \\\\\n",
        "& \\text{subject to} & & \\sum_{j : (i, j) \\in E} x_{ij} = 1 \\quad \\forall i \\in M \\\\\n",
        "& & & \\sum_{i : (i, j) \\in E} x_{ij} = 1 \\quad \\forall j \\in F \\\\\n",
        "& & & x_{ij} \\in \\{0, 1\\} \\quad \\forall (i, j) \\in E\n",
        "\\end{aligned}\n",
        "$$\n",
        "<br>\n",
        "Since solving the IP can be computationally challenging, we will use relaxation, meaning we will change the constrains to be linear. Then, we can reformulate the problem as a Linear Programming problem as follows:\n",
        "$$\n",
        "\\begin{aligned}\n",
        "& \\text{maximize} & & \\sum_{(i, j) \\in E} w_{ij} x_{ij} \\\\\n",
        "& \\text{subject to} & & \\sum_{j : (i, j) \\in E} x_{ij} = 1 \\quad \\forall i \\in M \\\\\n",
        "& & & \\sum_{i : (i, j) \\in E} x_{ij} = 1 \\quad \\forall j \\in F \\\\\n",
        "& & & 0 \\leq x_{ij} \\leq 1 \\quad \\forall (i, j) \\in E\n",
        "\\end{aligned}\n",
        "$$"
      ],
      "metadata": {
        "id": "yiZeLqPk82W8"
      }
    },
    {
      "cell_type": "markdown",
      "source": [
        "## Monte Carlo Simulation and Success Ratio\n",
        "We will perform Monte Carlo simulations to evaluate the success ratio of the LP relaxation in providing integral solutions (i.e., solutions where $x_{ij}$ is either 0 or 1) for different values of $k$. Here, $k$ represents the number of edges each man can have, indicating the number of women he can potentially be matched with.\n",
        "\n",
        "For each value of $k$ ranging from 2 to 100, we will perform the following:\n",
        "- Generate a bipartite graph with random weights.\n",
        "- Solve the corresponding LP problem.\n",
        "- Check if the solution is integral.\n",
        "- Calculate the success ratio, defined as the percentage of simulations where the LP solution was integral.\n",
        "\n",
        "The results are plotted to show the success ratio as a function of $k$."
      ],
      "metadata": {
        "id": "ReEBjbxqAg0J"
      }
    },
    {
      "cell_type": "code",
      "source": [
        "import numpy as np\n",
        "import matplotlib.pyplot as plt\n",
        "from scipy.optimize import linprog"
      ],
      "metadata": {
        "id": "rI9WvhEkh6jK"
      },
      "execution_count": 151,
      "outputs": []
    },
    {
      "cell_type": "code",
      "source": [
        "# Function to perform one simulation\n",
        "def run_simulation(n, k):\n",
        "    # Step 1: Generate bipartite graph edges with random weights\n",
        "    edges = []\n",
        "    for i in range(n):\n",
        "        # for specific i, find k random matches in j\n",
        "        possible_j = np.random.choice(n, k, replace=False) # replace=False to prevent getting same sample\n",
        "        for j in possible_j:\n",
        "            # for the k random matches, define random weights from the range 1 to 10\n",
        "            rand_weight = np.random.randint(1, 10)\n",
        "\n",
        "            # save as tuple with the format format (index i for Male, index j for Female, random weight)\n",
        "            edges.append((i, j, rand_weight))\n",
        "\n",
        "            #print(\"edge i=\" + str(i) + \" j=\" + str(j) + \" will get value: \" + str(rand_weight))\n",
        "\n",
        "    #print(edges)\n",
        "\n",
        "    # Step 2: Set up LP problem\n",
        "    c = [-w for _, _, w in edges]  # coefficients of the linear objective function (negative for maximization)\n",
        "    A_eq = np.zeros((2 * n, len(edges))) # equality constraint matrix\n",
        "    b_eq = np.ones(2 * n) # equality constraint vector\n",
        "\n",
        "    for idx, (i, j, _) in enumerate(edges):\n",
        "        A_eq[i, idx] = 1\n",
        "        A_eq[n + j, idx] = 1\n",
        "\n",
        "    bounds = [(0, 1) for _ in edges] # min & max for decision variable\n",
        "\n",
        "    # Step 3: Solve LP problem\n",
        "    result = linprog(c, A_eq=A_eq, b_eq=b_eq, bounds=bounds, method='highs')\n",
        "    opt_decision_variables = result.x\n",
        "    algorithm_success = result.success\n",
        "    algorithm_status = result.status\n",
        "\n",
        "    if algorithm_success:\n",
        "      is_integral_sol = all((val == 0 or val == 1) for val in opt_decision_variables)\n",
        "    else:\n",
        "      is_integral_sol = False\n",
        "\n",
        "    return opt_decision_variables, algorithm_success, algorithm_status, is_integral_sol"
      ],
      "metadata": {
        "id": "L4QBIDVHh96i"
      },
      "execution_count": 152,
      "outputs": []
    },
    {
      "cell_type": "code",
      "source": [
        "# Define necessary parameters\n",
        "n = 100\n",
        "k_values = range(2, 101)\n",
        "success_ratios = []\n",
        "num_monte_carlo = 100"
      ],
      "metadata": {
        "id": "dGIFdGaTiGZI"
      },
      "execution_count": 156,
      "outputs": []
    },
    {
      "cell_type": "code",
      "source": [
        "# Main simulation loop\n",
        "for k in k_values:\n",
        "    successes = 0\n",
        "    for _ in range(num_monte_carlo):\n",
        "        opt_decision_variables, algorithm_success, algorithm_status, is_integral_sol = run_simulation(n, k)\n",
        "        if algorithm_success and is_integral_sol:\n",
        "            successes += 1\n",
        "    success_ratios.append(successes / 100)"
      ],
      "metadata": {
        "id": "HYssOFWntc0y"
      },
      "execution_count": 157,
      "outputs": []
    },
    {
      "cell_type": "code",
      "source": [
        "# Plotting the results\n",
        "plt.plot(k_values, success_ratios, marker='o')\n",
        "plt.xlabel('k (number of edges per node in M)')\n",
        "plt.ylabel('Success Ratio')\n",
        "plt.title('Success Ratio of LP Solution for Different k Values')\n",
        "plt.grid(True)\n",
        "plt.show()"
      ],
      "metadata": {
        "colab": {
          "base_uri": "https://localhost:8080/",
          "height": 472
        },
        "id": "eynxBC_JTfvK",
        "outputId": "ce34488c-e98e-4b2c-ff7c-a1fdea25066b"
      },
      "execution_count": 158,
      "outputs": [
        {
          "output_type": "display_data",
          "data": {
            "text/plain": [
              "<Figure size 640x480 with 1 Axes>"
            ],
            "image/png": "[encoded data removed]"
          },
          "metadata": {}
        }
      ]
    }
  ]
}