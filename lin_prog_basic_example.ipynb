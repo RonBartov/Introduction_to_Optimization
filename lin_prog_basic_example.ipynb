{
  "nbformat": 4,
  "nbformat_minor": 0,
  "metadata": {
    "colab": {
      "provenance": [],
      "authorship_tag": "ABX9TyPx88HjT3+rq90LNFI0b+zI"
    },
    "kernelspec": {
      "name": "python3",
      "display_name": "Python 3"
    },
    "language_info": {
      "name": "python"
    }
  },
  "cells": [
    {
      "cell_type": "markdown",
      "source": [
        "# **Optimization: Linear Programming Simple Example**\n",
        "\n",
        "\n"
      ],
      "metadata": {
        "id": "t2cFB3YwzO10"
      }
    },
    {
      "cell_type": "code",
      "execution_count": 1,
      "metadata": {
        "id": "AIvTn5z-zBax"
      },
      "outputs": [],
      "source": [
        "from scipy.optimize import linprog"
      ]
    },
    {
      "cell_type": "markdown",
      "source": [
        "##**The goal**\n",
        "To solve the following classic  linear programming optimization problem:\n",
        "\n",
        "$min_{x_0,x_1} {\\{x_0 -0.5x_1\\}}$\n",
        "\n",
        "$such that:$\n",
        "\n",
        "$-x_0 + x_1 <=1$\n",
        "\n",
        "$0<=x_0<=3$\n",
        "\n",
        "$0<=x_1<=2$"
      ],
      "metadata": {
        "id": "fNH5OIH43Wre"
      }
    },
    {
      "cell_type": "markdown",
      "source": [
        "##**Using Python LinProg Function to Solve The Problem**\n",
        "\n",
        "We will need to represent the above problem in the following form:\n",
        "\n",
        "$min_{x\\in R^{2}} {\\{c^{T}x\\}}$\n",
        "\n",
        "$such that:$\n",
        "\n",
        "$A_{ub}x <= b_{ub}$\n",
        "\n",
        "$A_{eq}x <= b_{eq}$\n",
        "\n",
        "$l<=x<=u$"
      ],
      "metadata": {
        "id": "CnzIeqk565tk"
      }
    },
    {
      "cell_type": "code",
      "source": [
        "# representing conditions in desired form\n",
        "c = [1,-0.5]\n",
        "A = [[-1, 1]]\n",
        "b = [1]\n",
        "x0_bounds = (0, 3)\n",
        "x1_bounds = (0, 2)"
      ],
      "metadata": {
        "id": "YdigDD4F3Krr"
      },
      "execution_count": 2,
      "outputs": []
    },
    {
      "cell_type": "code",
      "source": [
        "# calculating optimal solution\n",
        "res = linprog(c, A_ub=A, b_ub=b, bounds=[x0_bounds, x1_bounds])"
      ],
      "metadata": {
        "id": "sy4H898e9iPU"
      },
      "execution_count": 3,
      "outputs": []
    },
    {
      "cell_type": "code",
      "source": [
        "# presenting results\n",
        "print(\"The optimal solution is : x_0 = \" + str(res.x[0]) + \", x_1 = \" + str(res.x[1]) + \"\\n\")\n",
        "print(\"The value of the objective function for the optimal solution is: f = \" + str(res.fun))"
      ],
      "metadata": {
        "colab": {
          "base_uri": "https://localhost:8080/"
        },
        "id": "cYoW-RBR9mj7",
        "outputId": "458533c2-320e-4a81-d1ed-8ab06581c174"
      },
      "execution_count": 4,
      "outputs": [
        {
          "output_type": "stream",
          "name": "stdout",
          "text": [
            "The optimal solution is : x_0 = 0.0, x_1 = 1.0\n",
            "\n",
            "The value of the objective function for the optimal solution is: f = -0.5\n"
          ]
        }
      ]
    }
  ]
}